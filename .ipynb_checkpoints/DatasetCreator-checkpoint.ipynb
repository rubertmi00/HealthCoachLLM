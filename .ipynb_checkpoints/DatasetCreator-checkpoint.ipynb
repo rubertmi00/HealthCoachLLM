{
 "cells": [
  {
   "cell_type": "code",
   "execution_count": 1,
   "id": "ff73e0fb-10f8-40f7-8590-03b36c4a5238",
   "metadata": {},
   "outputs": [],
   "source": [
    "from datasets import load_dataset, interleave_datasets\n",
    "from datasets import Dataset\n",
    "import pandas as pd"
   ]
  },
  {
   "cell_type": "markdown",
   "id": "f73af625-394f-415c-8cc8-d574c9cf232a",
   "metadata": {},
   "source": [
    "# Load in the component datasets to be combined"
   ]
  },
  {
   "cell_type": "code",
   "execution_count": 2,
   "id": "e59d8387-10d1-4c68-8cf0-ab1324939866",
   "metadata": {},
   "outputs": [
    {
     "name": "stderr",
     "output_type": "stream",
     "text": [
      "/Users/michaelruberto/opt/anaconda3/envs/LLM/lib/python3.11/site-packages/huggingface_hub/repocard.py:105: UserWarning: Repo card metadata block was not found. Setting CardData to empty.\n",
      "  warnings.warn(\"Repo card metadata block was not found. Setting CardData to empty.\")\n"
     ]
    }
   ],
   "source": [
    "health_assistant_dataset = load_dataset('alanahmet/HealthAssistant115')['train']\n",
    "mental_health_dataset = load_dataset('Amod/mental_health_counseling_conversations')['train']\n",
    "gym_dataset = load_dataset('garyzsu/custom_gym_dataset')['train']\n",
    "workouts_dataset = load_dataset('Kolibri753/generate-workouts')['train']"
   ]
  },
  {
   "cell_type": "markdown",
   "id": "1e5b7745-dce7-4a9a-9ce7-d998668d56cc",
   "metadata": {},
   "source": [
    "# Process each dataset as necessary so they all have the same format"
   ]
  },
  {
   "cell_type": "code",
   "execution_count": 3,
   "id": "4715c6e8-5eb9-489c-8ab9-e6bd5ae75448",
   "metadata": {},
   "outputs": [
    {
     "data": {
      "text/plain": [
       "Dataset({\n",
       "    features: ['output', 'input'],\n",
       "    num_rows: 230\n",
       "})"
      ]
     },
     "execution_count": 3,
     "metadata": {},
     "output_type": "execute_result"
    }
   ],
   "source": [
    "health_assistant_dataset = health_assistant_dataset.rename_column('instruction', 'input')\n",
    "health_assistant_dataset"
   ]
  },
  {
   "cell_type": "code",
   "execution_count": 4,
   "id": "5a8bf24c-90d8-4b44-8ba1-664a1c6a262f",
   "metadata": {},
   "outputs": [
    {
     "data": {
      "text/plain": [
       "Dataset({\n",
       "    features: ['output', 'input'],\n",
       "    num_rows: 995\n",
       "})"
      ]
     },
     "execution_count": 4,
     "metadata": {},
     "output_type": "execute_result"
    }
   ],
   "source": [
    "mental_health_dataset = mental_health_dataset.rename_column('Context', 'input')\n",
    "mental_health_dataset = mental_health_dataset.rename_column('Response', 'output')\n",
    "mental_health_dataset = Dataset.from_pandas(pd.DataFrame(mental_health_dataset).drop_duplicates(subset='input').set_index('input'))\n",
    "mental_health_dataset"
   ]
  },
  {
   "cell_type": "code",
   "execution_count": 5,
   "id": "c99ac7c6-bb45-41b0-bea6-a13713de9d13",
   "metadata": {},
   "outputs": [
    {
     "data": {
      "text/plain": [
       "Dataset({\n",
       "    features: ['input', 'output'],\n",
       "    num_rows: 74\n",
       "})"
      ]
     },
     "execution_count": 5,
     "metadata": {},
     "output_type": "execute_result"
    }
   ],
   "source": [
    "gym_dataset = gym_dataset.rename_column('question', 'input')\n",
    "gym_dataset = gym_dataset.rename_column('answer', 'output')\n",
    "gym_dataset = gym_dataset.remove_columns(['context', 'category'])\n",
    "gym_dataset"
   ]
  },
  {
   "cell_type": "code",
   "execution_count": 6,
   "id": "14efc07b-e4fe-4a9d-acf1-90afe9f442f2",
   "metadata": {},
   "outputs": [
    {
     "data": {
      "text/plain": [
       "Dataset({\n",
       "    features: ['input', 'output'],\n",
       "    num_rows: 101\n",
       "})"
      ]
     },
     "execution_count": 6,
     "metadata": {},
     "output_type": "execute_result"
    }
   ],
   "source": [
    "workouts_dataset = workouts_dataset.add_column('input', [text[text.index('\"')+1:text.index('\" ')] for text in workouts_dataset['text']])\n",
    "workouts_dataset = workouts_dataset.add_column('output', [text[text.index('[/INST] ')+8:text.index(' </s>')] for text in workouts_dataset['text']])\n",
    "workouts_dataset = workouts_dataset.remove_columns(['text'])\n",
    "workouts_dataset"
   ]
  },
  {
   "cell_type": "markdown",
   "id": "3cceeefb-1293-401b-893c-de5d1d0acb9d",
   "metadata": {},
   "source": [
    "# Merge into one dataset and push to hub"
   ]
  },
  {
   "cell_type": "code",
   "execution_count": 7,
   "id": "29269671-cea7-4a39-8a85-486e2a0eade8",
   "metadata": {},
   "outputs": [
    {
     "data": {
      "text/plain": [
       "DatasetDict({\n",
       "    train: Dataset({\n",
       "        features: ['output', 'input'],\n",
       "        num_rows: 1000\n",
       "    })\n",
       "    test: Dataset({\n",
       "        features: ['output', 'input'],\n",
       "        num_rows: 266\n",
       "    })\n",
       "})"
      ]
     },
     "execution_count": 7,
     "metadata": {},
     "output_type": "execute_result"
    }
   ],
   "source": [
    "merged_dataset = interleave_datasets([workouts_dataset, gym_dataset, mental_health_dataset, health_assistant_dataset],\n",
    "                                     stopping_strategy=\"all_exhausted\")\n",
    "merged_dataset = Dataset.from_pandas(pd.DataFrame(merged_dataset).drop_duplicates(subset='input').set_index('input'))\n",
    "merged_dataset = merged_dataset.train_test_split(test_size=0.21)\n",
    "merged_dataset"
   ]
  },
  {
   "cell_type": "code",
   "execution_count": 8,
   "id": "51896d7d-581e-4268-b510-41b870fd7401",
   "metadata": {},
   "outputs": [],
   "source": [
    "# merged_dataset.push_to_hub('rubertmi00/HealthCoachDataset')"
   ]
  }
 ],
 "metadata": {
  "kernelspec": {
   "display_name": "Python 3 (ipykernel)",
   "language": "python",
   "name": "python3"
  },
  "language_info": {
   "codemirror_mode": {
    "name": "ipython",
    "version": 3
   },
   "file_extension": ".py",
   "mimetype": "text/x-python",
   "name": "python",
   "nbconvert_exporter": "python",
   "pygments_lexer": "ipython3",
   "version": "3.11.7"
  }
 },
 "nbformat": 4,
 "nbformat_minor": 5
}
